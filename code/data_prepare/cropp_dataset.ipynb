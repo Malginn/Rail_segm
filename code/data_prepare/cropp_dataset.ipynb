{
 "cells": [
  {
   "cell_type": "markdown",
   "metadata": {},
   "source": [
    "# Getting `bboxes` from rs19 for semi-automatic marking"
   ]
  },
  {
   "cell_type": "code",
   "execution_count": null,
   "metadata": {},
   "outputs": [],
   "source": [
    "import pandas as pd\n",
    "import numpy as np\n",
    "import cv2\n",
    "import matplotlib.pyplot as plt\n",
    "\n",
    "import json\n",
    "\n",
    "import os\n",
    "from pathlib import Path\n",
    "import shutil\n",
    "\n",
    "from pprint import pprint\n",
    "from tqdm import tqdm\n",
    "import locale\n",
    "\n",
    "def getpreferredencoding(do_setlocale = True):\n",
    "    \"\"\"\n",
    "    Для корректного чтения файлов .npy\n",
    "    \"\"\"\n",
    "    return \"UTF-8\"\n",
    "\n",
    "locale.getpreferredencoding = getpreferredencoding\n",
    "print(locale.getpreferredencoding())"
   ]
  },
  {
   "cell_type": "code",
   "execution_count": null,
   "metadata": {},
   "outputs": [],
   "source": [
    "with open(r\"C:\\Users\\ivano\\Desktop\\Синара\\Синара\\railsem_true\\jsons\\rs19_val\\rs00009.json\") as file:\n",
    "    data = file.read()\n",
    "\n",
    "dic = json.loads(data)"
   ]
  },
  {
   "cell_type": "markdown",
   "metadata": {},
   "source": [
    "## Function for iterating through all the pictures and annotations in the folders `/images/` and `/annotations/`\n",
    "## for reading `bboxes` and cutting them from the original image to create a dataset for semi-automatic. polygon markings"
   ]
  },
  {
   "cell_type": "markdown",
   "metadata": {},
   "source": [
    "#### 4 classes of switches:\n",
    "\n",
    " - ~~switch-indicator~~\n",
    " - 'switch-left'\n",
    " - 'switch-right'\n",
    " - ~~'switch-static'~~\n",
    " - 'switch-unknown'"
   ]
  },
  {
   "cell_type": "code",
   "execution_count": null,
   "metadata": {},
   "outputs": [],
   "source": [
    "#cut bboxes from the original images of the rs19 dataset and add 4% of the width and height to the edges\n",
    "\n",
    "path_to_imgs = Path('../../data/jpgs/rs19_val')\n",
    "path_to_jsons = Path('../../data/jsons/rs19_val')\n",
    "classnames = ['switch-left', 'switch-right', 'switch-unknow']\n",
    "imgs_list = os.listdir(path_to_imgs)    \n",
    "jsons_list = os.listdir(path_to_jsons)\n",
    "\n",
    "increase_bboxes = 2\n",
    "\n",
    "for filename in tqdm(jsons_list, 'files processed'):\n",
    "    with open(Path(path_to_jsons, filename)) as file:\n",
    "        data = json.loads(file.read())\n",
    "\n",
    "    img_path = str(Path(path_to_imgs, filename[:-4] + 'jpg'))\n",
    "    img = cv2.imread(img_path)\n",
    "\n",
    "    wh_inc = 1 + increase_bboxes / 100\n",
    "    xy_inc = 1 - increase_bboxes / 100\n",
    "\n",
    "    for idx, obj in enumerate(data['objects']):\n",
    "        if obj['label'] in classnames:\n",
    "            try:\n",
    "                x, y, w, h = obj['boundingbox']\n",
    "\n",
    "                if increase_bboxes != 0:\n",
    "                    x, y = int(xy_inc * x), int(xy_inc * y)\n",
    "                    w, h = int(wh_inc * w), int(wh_inc * h)\n",
    "                \n",
    "                roi_color = img[y:h, x:w]\n",
    "                cv2.imwrite(f'../../data/bboxes_switches/{data[\"frame\"]}_{idx}.jpg', roi_color)\n",
    "            except: \n",
    "                continue"
   ]
  },
  {
   "cell_type": "code",
   "execution_count": null,
   "metadata": {},
   "outputs": [],
   "source": [
    "len(os.listdir('../../data/bboxes_switches'))"
   ]
  },
  {
   "cell_type": "code",
   "execution_count": null,
   "metadata": {},
   "outputs": [],
   "source": [
    "# shutil.rmtree('../../data/bboxes_switches/')\n",
    "# os.makedirs('../../data/bboxes_switches/')"
   ]
  },
  {
   "cell_type": "code",
   "execution_count": null,
   "metadata": {},
   "outputs": [],
   "source": [
    "#Cut out bboxes where there are no switches to add a background class\n",
    "\n",
    "path_to_imgs = Path('../../data/jpgs/rs19_val')\n",
    "path_to_jsons = Path('../../data/jsons/rs19_val')\n",
    "stop_word = 'switch'    \n",
    "imgs_list = os.listdir(path_to_imgs)    \n",
    "jsons_list = os.listdir(path_to_jsons)\n",
    "\n",
    "increase_bboxes = 2\n",
    "\n",
    "for filename in tqdm(jsons_list, 'files processed'):\n",
    "    with open(Path(path_to_jsons, filename)) as file:\n",
    "        data = json.loads(file.read())\n",
    "\n",
    "    img_path = str(Path(path_to_imgs, filename[:-4] + 'jpg'))\n",
    "    img = cv2.imread(img_path)\n",
    "\n",
    "    wh_inc = 1 + increase_bboxes / 100\n",
    "    xy_inc = 1 - increase_bboxes / 100\n",
    "\n",
    "    for idx, obj in enumerate(data['objects']):\n",
    "        if stop_word not in obj['label']:\n",
    "            try:\n",
    "                x, y, w, h = obj['boundingbox']\n",
    "\n",
    "                if increase_bboxes != 0:\n",
    "                    x, y = int(xy_inc * x), int(xy_inc * y)\n",
    "                    w, h = int(wh_inc * w), int(wh_inc * h)\n",
    "\n",
    "                lab = obj['label']\n",
    "                roi_color = img[y:h, x:w]\n",
    "                cv2.imwrite(f'../../data/bboxes_other/{data[\"frame\"]}_{lab}_{idx}.jpg', roi_color)\n",
    "            except: \n",
    "                continue"
   ]
  },
  {
   "cell_type": "code",
   "execution_count": null,
   "metadata": {},
   "outputs": [],
   "source": [
    "len(os.listdir('../../data/bboxes_other'))"
   ]
  }
 ],
 "metadata": {
  "kernelspec": {
   "display_name": "base",
   "language": "python",
   "name": "python3"
  },
  "language_info": {
   "codemirror_mode": {
    "name": "ipython",
    "version": 3
   },
   "file_extension": ".py",
   "mimetype": "text/x-python",
   "name": "python",
   "nbconvert_exporter": "python",
   "pygments_lexer": "ipython3",
   "version": "3.11.5"
  }
 },
 "nbformat": 4,
 "nbformat_minor": 2
}
