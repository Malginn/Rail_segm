{
 "cells": [
  {
   "cell_type": "code",
   "execution_count": null,
   "metadata": {},
   "outputs": [],
   "source": [
    "import pandas as pd\n",
    "import numpy as np\n",
    "import cv2\n",
    "import matplotlib.pyplot as plt\n",
    "\n",
    "import json\n",
    "\n",
    "import os\n",
    "from pathlib import Path\n",
    "import shutil\n",
    "\n",
    "from pprint import pprint\n",
    "from tqdm import tqdm\n",
    "import locale\n",
    "\n",
    "def getpreferredencoding(do_setlocale = True):\n",
    "    \"\"\"\n",
    "    Для корректного чтения файлов .npy\n",
    "    \"\"\"\n",
    "    return \"UTF-8\"\n",
    "\n",
    "locale.getpreferredencoding = getpreferredencoding\n",
    "print(locale.getpreferredencoding())"
   ]
  },
  {
   "cell_type": "code",
   "execution_count": null,
   "metadata": {},
   "outputs": [],
   "source": [
    "with open(r\"C:\\Users\\ivano\\Desktop\\Синара\\Синара\\railsem_true\\jsons\\rs19_val\\rs00009.json\") as file:\n",
    "    data = file.read()\n",
    "\n",
    "dic = json.loads(data)"
   ]
  },
  {
   "cell_type": "code",
   "execution_count": null,
   "metadata": {},
   "outputs": [],
   "source": [
    "#transfer images that have annotations to another folder\n",
    "\n",
    "path_to_imgs = Path('../../data/images')\n",
    "path_to_jsons = Path('../../data/jsons/rs19_val')\n",
    "classnames = ['switch-left', 'switch-right', 'switch-unknow']\n",
    "imgs_list = os.listdir(path_to_imgs)    \n",
    "jsons_list = os.listdir(path_to_jsons)\n",
    "\n",
    "increase_bboxes = 2\n",
    "\n",
    "for filename in tqdm(jsons_list, 'files processed'):\n",
    "    with open(Path(path_to_jsons, filename)) as file:\n",
    "        data = json.loads(file.read())\n",
    "\n",
    "    try:\n",
    "        img_name = filename[:-5] + '.jpg'\n",
    "        img_path = str(Path(path_to_imgs, img_name))\n",
    "        img = cv2.imread(img_path)\n",
    "\n",
    "        for idx, obj in enumerate(data['objects']):\n",
    "            if obj['label'] in classnames:\n",
    "                try:\n",
    "                    shutil.move(f'../../data/images/{img_name}', f'../../data/big_switch_without_annot/{img_name}')\n",
    "                    break\n",
    "                except: \n",
    "                    continue\n",
    "    except:\n",
    "        continue"
   ]
  },
  {
   "cell_type": "code",
   "execution_count": null,
   "metadata": {},
   "outputs": [],
   "source": [
    "len(os.listdir('../../data/big_switch_without_annot/)'))"
   ]
  }
 ],
 "metadata": {
  "kernelspec": {
   "display_name": "base",
   "language": "python",
   "name": "python3"
  },
  "language_info": {
   "codemirror_mode": {
    "name": "ipython",
    "version": 3
   },
   "file_extension": ".py",
   "mimetype": "text/x-python",
   "name": "python",
   "nbconvert_exporter": "python",
   "pygments_lexer": "ipython3",
   "version": "3.11.5"
  }
 },
 "nbformat": 4,
 "nbformat_minor": 2
}
