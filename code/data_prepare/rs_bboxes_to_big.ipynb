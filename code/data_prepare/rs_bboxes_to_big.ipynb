{
  "cells": [
    {
      "cell_type": "markdown",
      "metadata": {
        "id": "lJaw_0lbYZ0R"
      },
      "source": [
        "# Adding labeled masks from CVAT to the original railsem images"
      ]
    },
    {
      "cell_type": "markdown",
      "metadata": {
        "id": "flzkpUIXZ6cc"
      },
      "source": [
        "- you need to parse the bboxes coordinates\n",
        "- parse masks inside bboxes\n",
        "- you need to transfer the mask using the bboxes coordinates to the original image and so on for all images"
      ]
    },
    {
      "cell_type": "code",
      "execution_count": null,
      "metadata": {
        "id": "v1LhbHCEYZ0S"
      },
      "outputs": [],
      "source": [
        "import pandas as pd\n",
        "import numpy as np\n",
        "import cv2\n",
        "import matplotlib.pyplot as plt\n",
        "import shapely.geometry as geom\n",
        "\n",
        "import json\n",
        "\n",
        "import os\n",
        "from pathlib import Path\n",
        "import shutil\n",
        "\n",
        "from pprint import pprint\n",
        "from tqdm import tqdm\n",
        "import locale\n",
        "\n",
        "import shapely.geometry as geom\n",
        "import numpy as np\n",
        "from ultralytics.data.utils import polygon2mask"
      ]
    },
    {
      "cell_type": "markdown",
      "metadata": {
        "id": "t_rzRDOGJi2Q"
      },
      "source": [
        "\n",
        "- reading json files\n",
        "- extracting coordinates from rs\n",
        "- coco to mask format polygon check"
      ]
    },
    {
      "cell_type": "code",
      "execution_count": null,
      "metadata": {
        "id": "i3z4riHURoZX"
      },
      "outputs": [],
      "source": [
        "rs_annot = 'annotation_rs/jsons/rs19_val/rs07854.json'\n",
        "classnames = ['switch-left', 'switch-right', 'switch-unknow']\n",
        "coco_annot = 'annotation_mine/instance-443big.json'\n",
        "coco_result_annot = 'results/annot_coco_big.json'\n",
        "rs_true_img_dir = 'rs_true/jpgs/rs19_val'\n",
        "\n",
        "\n",
        "rs_annot_dir = 'annotation_rs/jsons/rs19_val'\n",
        "rs_annot_list = os.listdir('annotation_rs/jsons/rs19_val')\n",
        "rs_imgs = os.listdir(rs_true_img_dir)"
      ]
    },
    {
      "cell_type": "code",
      "execution_count": null,
      "metadata": {},
      "outputs": [],
      "source": [
        "#create a dictionary of file names and coordinates bboxes true\n",
        "\n",
        "bboxes_scale_dict = {}\n",
        "img_names = []\n",
        "for filename in rs_annot_list:\n",
        "    with open(rs_annot_dir + '/' + filename) as file:\n",
        "        data = json.loads(file.read())\n",
        "\n",
        "    increase_bboxes = 2\n",
        "\n",
        "    wh_inc = 1 + increase_bboxes / 100\n",
        "    xy_inc = 1 - increase_bboxes / 100\n",
        "\n",
        "    for idx, obj in enumerate(data['objects']):\n",
        "        if obj['label'] in classnames:\n",
        "            try:\n",
        "                x, y, w, h = obj['boundingbox']\n",
        "\n",
        "                if increase_bboxes != 0:\n",
        "                    x, y = int(xy_inc * x), int(xy_inc * y)\n",
        "                    w, h = int(wh_inc * w), int(wh_inc * h)\n",
        "\n",
        "                    firstname = filename.split(\".\")[0]\n",
        "                    name = f'{firstname}_{idx}'\n",
        "                    img_names.append(firstname)\n",
        "                    bboxes_scale_dict[name] = (x, y)\n",
        "            except:\n",
        "                continue\n",
        "\n",
        "\n",
        "print(len(bboxes_scale_dict))"
      ]
    },
    {
      "cell_type": "code",
      "execution_count": null,
      "metadata": {},
      "outputs": [],
      "source": [
        "bboxes_scale_dict['rs05840_10']"
      ]
    },
    {
      "cell_type": "code",
      "execution_count": null,
      "metadata": {
        "colab": {
          "base_uri": "https://localhost:8080/",
          "height": 1000
        },
        "id": "NPfIsaJ2Nxpf",
        "outputId": "8d9d5710-1ef2-4f91-f574-e63e3256664a"
      },
      "outputs": [],
      "source": [
        "#we get the polygons by the file name rs_true in the coco annotation\n",
        "with open(coco_annot) as file:\n",
        "    data = file.read()\n",
        "dic = json.loads(data)\n",
        "\n",
        "\n",
        "polygons = {}\n",
        "for img_name in img_names:\n",
        "    img_ids = []\n",
        "    for img_obj in dic['images']:\n",
        "        if img_name in img_obj['file_name']:\n",
        "            # img_ids.append(img_obj['id'])\n",
        "            for cur_annot in dic['annotations']:\n",
        "                # for id in img_ids:\n",
        "                if cur_annot['image_id'] == img_obj['id']:\n",
        "                    polygons[img_obj['file_name'].split('.')[0]] = cur_annot['segmentation'][0]\n",
        "\n",
        "len(polygons)"
      ]
    },
    {
      "cell_type": "code",
      "execution_count": null,
      "metadata": {},
      "outputs": [],
      "source": [
        "#scaling polygons\n",
        "\n",
        "result_bboxes = {}\n",
        "for key, value in polygons.items():\n",
        "    polygon_scaled = []\n",
        "    for idx in range(len(value)):\n",
        "        if idx % 2 == 0:\n",
        "            try:\n",
        "                polygon_scaled.append(value[idx] + bboxes_scale_dict[key][0])   #посмотреть на обучении мб придется поменять местами 1 и 0\n",
        "            except:\n",
        "                continue\n",
        "        else:\n",
        "            try:\n",
        "                polygon_scaled.append(value[idx] + bboxes_scale_dict[key][1])\n",
        "            except:\n",
        "                continue\n",
        "    result_bboxes[key] = polygon_scaled"
      ]
    },
    {
      "cell_type": "code",
      "execution_count": null,
      "metadata": {},
      "outputs": [],
      "source": [
        "len(result_bboxes)"
      ]
    },
    {
      "cell_type": "code",
      "execution_count": null,
      "metadata": {},
      "outputs": [],
      "source": [
        "#create new names and write all the frame polygons to one image\n",
        "\n",
        "with open(coco_annot) as file:\n",
        "    data = file.read()\n",
        "dic = json.loads(data)\n",
        "\n",
        "\n",
        "new_img_names = []\n",
        "for item in polygons.keys():\n",
        "    new_img_names.append(item.split('_')[0])\n",
        "\n",
        "new_img_names = set(new_img_names)\n",
        "len(new_img_names)"
      ]
    },
    {
      "cell_type": "code",
      "execution_count": null,
      "metadata": {},
      "outputs": [],
      "source": [
        "WIDTH = 1920\n",
        "HEIGHT = 1080\n",
        "\n",
        "with open(coco_result_annot) as file:\n",
        "    data = file.read()\n",
        "dic = json.loads(data)\n",
        "\n",
        "images = []\n",
        "\n",
        "\n",
        "for idx, img_name in enumerate(new_img_names):\n",
        "    images.append(\n",
        "        {\n",
        "            \"id\": idx,\n",
        "            \"width\": WIDTH,\n",
        "            \"height\": HEIGHT,\n",
        "            \"file_name\": img_name + '.jpg',\n",
        "            \"license\": 0,\n",
        "            \"flickr_url\": \"\",\n",
        "            \"coco_url\": \"\",\n",
        "            \"date_captured\": 0\n",
        "        },\n",
        "    )\n",
        "dic['images'] = images"
      ]
    },
    {
      "cell_type": "markdown",
      "metadata": {},
      "source": [
        "# Adding the new bounding boxes to annotations"
      ]
    },
    {
      "cell_type": "code",
      "execution_count": null,
      "metadata": {},
      "outputs": [],
      "source": [
        "#Adding\n",
        "\n",
        "bboxes = {}\n",
        "img_names = []\n",
        "for filename in rs_annot_list:\n",
        "    with open(rs_annot_dir + '/' + filename) as file:\n",
        "        data = json.loads(file.read())\n",
        "\n",
        "    increase_bboxes = 2\n",
        "\n",
        "    wh_inc = 1 + increase_bboxes / 100\n",
        "    xy_inc = 1 - increase_bboxes / 100\n",
        "\n",
        "    for idx, obj in enumerate(data['objects']):\n",
        "        if obj['label'] in classnames:\n",
        "            try:\n",
        "                x, y, w, h = obj['boundingbox']\n",
        "\n",
        "                if increase_bboxes != 0:\n",
        "                    x, y = int(xy_inc * x), int(xy_inc * y)\n",
        "                    w, h = int(wh_inc * w), int(wh_inc * h)\n",
        "\n",
        "                    firstname = filename.split(\".\")[0]\n",
        "                    name = f'{firstname}_{idx}'\n",
        "                    img_names.append(firstname)\n",
        "                    bboxes[name] = [x, y, w, h]\n",
        "            except:\n",
        "                continue\n",
        "\n",
        "\n",
        "pprint(bboxes)"
      ]
    },
    {
      "cell_type": "code",
      "execution_count": null,
      "metadata": {},
      "outputs": [],
      "source": [
        "annotations = []\n",
        "for idx, img_name in enumerate(polygons.keys()):\n",
        "    #frame_10\n",
        "    for img_object in dic['images']:\n",
        "        if img_name.split('_')[0] in img_object['file_name']:\n",
        "            mask = result_bboxes.get(img_name)\n",
        "            bbox = bboxes.get(img_name)\n",
        "            annotations.append(\n",
        "                        {\n",
        "                            \"id\": idx,\n",
        "                            \"image_id\": img_object['id'],\n",
        "                            \"category_id\": 1,\n",
        "                            \"segmentation\": [\n",
        "                                mask\n",
        "                            ],\n",
        "                            \"area\": 2195.0,\n",
        "                            \"bbox\": bbox,\n",
        "                            \"iscrowd\": 0,\n",
        "                            \"attributes\": {\n",
        "                                \"occluded\": False\n",
        "                            }\n",
        "                        },\n",
        "            )"
      ]
    },
    {
      "cell_type": "code",
      "execution_count": null,
      "metadata": {},
      "outputs": [],
      "source": [
        "len(annotations)"
      ]
    },
    {
      "cell_type": "code",
      "execution_count": null,
      "metadata": {},
      "outputs": [],
      "source": [
        "dic['annotations'] = annotations"
      ]
    },
    {
      "cell_type": "code",
      "execution_count": null,
      "metadata": {},
      "outputs": [],
      "source": [
        "with open(r\"C:\\Users\\ivano\\Документы\\GitHub\\Rail_segm\\code\\data_prepare\\results\\annot_coco_finally.json\", \"w\", encoding=\"utf-8\") as file:\n",
        "    json.dump(dic, file)"
      ]
    }
  ],
  "metadata": {
    "colab": {
      "provenance": []
    },
    "kernelspec": {
      "display_name": "base",
      "language": "python",
      "name": "python3"
    },
    "language_info": {
      "codemirror_mode": {
        "name": "ipython",
        "version": 3
      },
      "file_extension": ".py",
      "mimetype": "text/x-python",
      "name": "python",
      "nbconvert_exporter": "python",
      "pygments_lexer": "ipython3",
      "version": "3.11.5"
    }
  },
  "nbformat": 4,
  "nbformat_minor": 0
}
