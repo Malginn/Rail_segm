{
 "cells": [
  {
   "cell_type": "code",
   "execution_count": 1,
   "metadata": {},
   "outputs": [],
   "source": [
    "import os\n",
    "import json\n",
    "import shutil"
   ]
  },
  {
   "cell_type": "code",
   "execution_count": 22,
   "metadata": {},
   "outputs": [],
   "source": [
    "img_list = os.listdir(r\"C:\\Users\\ivano\\Документы\\GitHub\\Rail_segm\\code\\dataset_generate\\dataset_big_img\\images\")\n",
    "json_list = os.listdir(r\"C:\\Users\\ivano\\Документы\\GitHub\\Rail_segm\\code\\dataset_generate\\dataset_big_img\\annotations\")"
   ]
  },
  {
   "cell_type": "code",
   "execution_count": 23,
   "metadata": {},
   "outputs": [],
   "source": [
    "with open(r\"C:\\Users\\ivano\\Документы\\GitHub\\Rail_segm\\code\\dataset_generate\\dataset_big_img\\annotations\\instance-443big.json\", 'r') as file:\n",
    "    data = json.load(file)"
   ]
  },
  {
   "cell_type": "code",
   "execution_count": 24,
   "metadata": {},
   "outputs": [
    {
     "data": {
      "text/plain": [
       "449"
      ]
     },
     "execution_count": 24,
     "metadata": {},
     "output_type": "execute_result"
    }
   ],
   "source": [
    "img_filenames_exist = []\n",
    "for img_obj in data['images']:\n",
    "    img_filenames_exist.append((img_obj['file_name']))\n",
    "\n",
    "len(img_filenames_exist)"
   ]
  },
  {
   "cell_type": "code",
   "execution_count": 25,
   "metadata": {},
   "outputs": [],
   "source": [
    "os.makedirs(f'dataset_big_img/new_images/')"
   ]
  },
  {
   "cell_type": "code",
   "execution_count": 26,
   "metadata": {},
   "outputs": [],
   "source": [
    "for item in img_filenames_exist:\n",
    "    if os.path.exists(f'dataset_big_img/images/{item}'):\n",
    "        shutil.move(f'dataset_big_img/images/{item}', f'dataset_big_img/new_images/{item}')"
   ]
  },
  {
   "cell_type": "code",
   "execution_count": 27,
   "metadata": {},
   "outputs": [
    {
     "data": {
      "text/plain": [
       "449"
      ]
     },
     "execution_count": 27,
     "metadata": {},
     "output_type": "execute_result"
    }
   ],
   "source": [
    "len(os.listdir(r\"C:\\Users\\ivano\\Документы\\GitHub\\Rail_segm\\code\\dataset_generate\\dataset_big_img\\new_images\"))"
   ]
  },
  {
   "cell_type": "code",
   "execution_count": 28,
   "metadata": {},
   "outputs": [
    {
     "data": {
      "text/plain": [
       "8051"
      ]
     },
     "execution_count": 28,
     "metadata": {},
     "output_type": "execute_result"
    }
   ],
   "source": [
    "len(os.listdir(r\"C:\\Users\\ivano\\Документы\\GitHub\\Rail_segm\\code\\dataset_generate\\dataset_big_img\\images\"))"
   ]
  },
  {
   "cell_type": "code",
   "execution_count": 29,
   "metadata": {},
   "outputs": [],
   "source": [
    "with open('names_of_non_annot_imgs.txt', 'w') as file:\n",
    "    array_imgs = os.listdir(r\"C:\\Users\\ivano\\Документы\\GitHub\\Rail_segm\\code\\dataset_generate\\dataset_big_img\\images\")\n",
    "    file.write(f'{array_imgs}')"
   ]
  },
  {
   "cell_type": "code",
   "execution_count": 30,
   "metadata": {},
   "outputs": [],
   "source": [
    "shutil.rmtree('dataset_big_img/images/')"
   ]
  },
  {
   "cell_type": "code",
   "execution_count": 31,
   "metadata": {},
   "outputs": [],
   "source": [
    "os.rename(\"dataset_big_img/new_images/\",\"dataset_big_img/images/\")"
   ]
  },
  {
   "cell_type": "code",
   "execution_count": null,
   "metadata": {},
   "outputs": [],
   "source": []
  }
 ],
 "metadata": {
  "kernelspec": {
   "display_name": "base",
   "language": "python",
   "name": "python3"
  },
  "language_info": {
   "codemirror_mode": {
    "name": "ipython",
    "version": 3
   },
   "file_extension": ".py",
   "mimetype": "text/x-python",
   "name": "python",
   "nbconvert_exporter": "python",
   "pygments_lexer": "ipython3",
   "version": "3.11.5"
  }
 },
 "nbformat": 4,
 "nbformat_minor": 2
}
