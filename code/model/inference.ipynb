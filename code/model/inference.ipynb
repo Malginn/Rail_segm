{
  "cells": [
    {
      "cell_type": "markdown",
      "metadata": {
        "id": "IHXRx7yXoAUe"
      },
      "source": [
        "-------------------------------------------\n",
        "# File with training and model inference"
      ]
    },
    {
      "cell_type": "code",
      "execution_count": null,
      "metadata": {
        "id": "hZir1nnCbdKp"
      },
      "outputs": [],
      "source": [
        "from IPython.display import display, Image\n",
        "import torch, torchvision\n",
        "\n",
        "import numpy as np\n",
        "import matplotlib.pyplot as plt\n",
        "import torch\n",
        "from ultralytics import YOLO\n",
        "\n",
        "from shapely.geometry import Polygon\n",
        "import cv2\n",
        "\n",
        "import os\n",
        "os.environ[\"KMP_DUPLICATE_LIB_OK\"]=\"TRUE\"\n",
        "\n",
        "import locale\n",
        "print(locale.getpreferredencoding())\n",
        "def getpreferredencoding(do_setlocale = True):\n",
        "    \"\"\"\n",
        "    Для корректного чтения файлов .npy\n",
        "    \"\"\"\n",
        "    return \"UTF-8\"\n",
        "\n",
        "locale.getpreferredencoding = getpreferredencoding\n",
        "print(locale.getpreferredencoding())"
      ]
    },
    {
      "cell_type": "code",
      "execution_count": null,
      "metadata": {
        "id": "WsHDap2bbdKq"
      },
      "outputs": [],
      "source": [
        "torch.cuda.is_available()"
      ]
    },
    {
      "cell_type": "markdown",
      "metadata": {},
      "source": [
        "---------------------------------------\n",
        "# Train"
      ]
    },
    {
      "cell_type": "code",
      "execution_count": null,
      "metadata": {},
      "outputs": [],
      "source": [
        "torch.cuda.empty_cache()"
      ]
    },
    {
      "cell_type": "code",
      "execution_count": null,
      "metadata": {},
      "outputs": [],
      "source": [
        "EPOCHS = 15\n",
        "IMGSZ = (1080, 1920)\n",
        "BATCH_SIZE = 5\n",
        "model_path = r\"C:\\Users\\ivano\\Документы\\GitHub\\Rail_segm\\code\\model\\runs\\segment\\train32\\weights\\best.pt\"\n",
        "yaml_path = r\"C:\\Users\\ivano\\Документы\\GitHub\\Rail_segm\\code\\dataset_generate\\YOLO_dataset_big443\\data.yaml\"\n",
        "\n",
        "\n",
        "model = YOLO(model_path)\n",
        "model.info()"
      ]
    },
    {
      "cell_type": "code",
      "execution_count": null,
      "metadata": {
        "colab": {
          "base_uri": "https://localhost:8080/",
          "height": 966
        },
        "id": "vOgYUE6lbdKr",
        "outputId": "1d51cf88-0dea-4040-a273-3fa1894285b1"
      },
      "outputs": [],
      "source": [
        "results = model.train(data=yaml_path, epochs=EPOCHS, imgsz=IMGSZ,  workers=0, show_labels=False, batch=BATCH_SIZE)"
      ]
    },
    {
      "cell_type": "code",
      "execution_count": null,
      "metadata": {
        "id": "AU4VkIqPkCnD"
      },
      "outputs": [],
      "source": [
        "metrics = model.val()"
      ]
    },
    {
      "cell_type": "markdown",
      "metadata": {
        "id": "Wwj1snXrbdKv"
      },
      "source": [
        "### In this case we are interested in: `IoU`, `mAP50`, `loss`,\n",
        "\n",
        "Further, when classes are added, the `class-specific AP` will be important, i.e. AP metric for each class"
      ]
    },
    {
      "cell_type": "markdown",
      "metadata": {},
      "source": [
        "--------------------------------------------\n",
        "# Inference"
      ]
    },
    {
      "cell_type": "code",
      "execution_count": null,
      "metadata": {},
      "outputs": [],
      "source": [
        "IOU_TRESHOLD = 0.3\n",
        "CONF = 0.5\n",
        "IMSZ_PRED = (720, 1280)\n",
        "test_example_path = r\"C:\\Users\\ivano\\Desktop\\test-video-switch1.mp4\""
      ]
    },
    {
      "cell_type": "code",
      "execution_count": null,
      "metadata": {
        "colab": {
          "base_uri": "https://localhost:8080/"
        },
        "id": "9_aA6oJUXs-V",
        "outputId": "7eaf765c-cd59-4064-a0c6-4c442bf64939"
      },
      "outputs": [],
      "source": [
        "pred = model.predict(test_example_path, iou=IOU_TRESHOLD, show_labels=True, save=True, imgsz=IMSZ_PRED, conf=CONF)"
      ]
    }
  ],
  "metadata": {
    "accelerator": "GPU",
    "colab": {
      "gpuType": "T4",
      "provenance": []
    },
    "kernelspec": {
      "display_name": "Python 3",
      "name": "python3"
    },
    "language_info": {
      "codemirror_mode": {
        "name": "ipython",
        "version": 3
      },
      "file_extension": ".py",
      "mimetype": "text/x-python",
      "name": "python",
      "nbconvert_exporter": "python",
      "pygments_lexer": "ipython3",
      "version": "3.11.5"
    }
  },
  "nbformat": 4,
  "nbformat_minor": 0
}
